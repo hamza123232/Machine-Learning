{
 "cells": [
  {
   "cell_type": "markdown",
   "metadata": {
    "pycharm": {
     "name": "#%% md\n"
    }
   },
   "source": [
    "Decision Tree On Iris\n"
   ]
  },
  {
   "cell_type": "code",
   "execution_count": 2,
   "metadata": {
    "pycharm": {
     "name": "#%%\n"
    }
   },
   "outputs": [
    {
     "data": {
      "text/html": [
       "<div>\n",
       "<style scoped>\n",
       "    .dataframe tbody tr th:only-of-type {\n",
       "        vertical-align: middle;\n",
       "    }\n",
       "\n",
       "    .dataframe tbody tr th {\n",
       "        vertical-align: top;\n",
       "    }\n",
       "\n",
       "    .dataframe thead th {\n",
       "        text-align: right;\n",
       "    }\n",
       "</style>\n",
       "<table border=\"1\" class=\"dataframe\">\n",
       "  <thead>\n",
       "    <tr style=\"text-align: right;\">\n",
       "      <th></th>\n",
       "      <th>sepal_length</th>\n",
       "      <th>sepal_width</th>\n",
       "      <th>petal_length</th>\n",
       "      <th>petal_width</th>\n",
       "      <th>species</th>\n",
       "    </tr>\n",
       "  </thead>\n",
       "  <tbody>\n",
       "    <tr>\n",
       "      <th>0</th>\n",
       "      <td>5.1</td>\n",
       "      <td>3.5</td>\n",
       "      <td>1.4</td>\n",
       "      <td>0.2</td>\n",
       "      <td>setosa</td>\n",
       "    </tr>\n",
       "    <tr>\n",
       "      <th>1</th>\n",
       "      <td>4.9</td>\n",
       "      <td>3.0</td>\n",
       "      <td>1.4</td>\n",
       "      <td>0.2</td>\n",
       "      <td>setosa</td>\n",
       "    </tr>\n",
       "    <tr>\n",
       "      <th>2</th>\n",
       "      <td>4.7</td>\n",
       "      <td>3.2</td>\n",
       "      <td>1.3</td>\n",
       "      <td>0.2</td>\n",
       "      <td>setosa</td>\n",
       "    </tr>\n",
       "    <tr>\n",
       "      <th>3</th>\n",
       "      <td>4.6</td>\n",
       "      <td>3.1</td>\n",
       "      <td>1.5</td>\n",
       "      <td>0.2</td>\n",
       "      <td>setosa</td>\n",
       "    </tr>\n",
       "    <tr>\n",
       "      <th>4</th>\n",
       "      <td>5.0</td>\n",
       "      <td>3.6</td>\n",
       "      <td>1.4</td>\n",
       "      <td>0.2</td>\n",
       "      <td>setosa</td>\n",
       "    </tr>\n",
       "  </tbody>\n",
       "</table>\n",
       "</div>"
      ],
      "text/plain": [
       "   sepal_length  sepal_width  petal_length  petal_width species\n",
       "0           5.1          3.5           1.4          0.2  setosa\n",
       "1           4.9          3.0           1.4          0.2  setosa\n",
       "2           4.7          3.2           1.3          0.2  setosa\n",
       "3           4.6          3.1           1.5          0.2  setosa\n",
       "4           5.0          3.6           1.4          0.2  setosa"
      ]
     },
     "execution_count": 2,
     "metadata": {},
     "output_type": "execute_result"
    }
   ],
   "source": [
    "import numpy as np\n",
    "import pandas as pd\n",
    "import seaborn as sns\n",
    "\n",
    "df = sns.load_dataset(\"iris\")\n",
    "df.head()"
   ]
  },
  {
   "cell_type": "code",
   "execution_count": 3,
   "metadata": {
    "pycharm": {
     "name": "#%%\n"
    }
   },
   "outputs": [],
   "source": [
    "import matplotlib.pyplot as plt\n",
    "from sklearn.tree import DecisionTreeClassifier\n",
    "x = df.iloc[:,:-1]\n",
    "y = df.iloc[:,:-1:]"
   ]
  },
  {
   "cell_type": "code",
   "execution_count": 13,
   "metadata": {
    "pycharm": {
     "name": "#%%\n"
    }
   },
   "outputs": [
    {
     "data": {
      "text/plain": [
       "600"
      ]
     },
     "execution_count": 13,
     "metadata": {},
     "output_type": "execute_result"
    }
   ],
   "source": [
    "x.head()\n",
    "type(y)\n",
    "x.size"
   ]
  },
  {
   "cell_type": "code",
   "execution_count": 14,
   "metadata": {
    "pycharm": {
     "name": "#%%\n"
    }
   },
   "outputs": [
    {
     "data": {
      "text/plain": [
       "600"
      ]
     },
     "execution_count": 14,
     "metadata": {},
     "output_type": "execute_result"
    }
   ],
   "source": [
    "y.head()\n",
    "type(y)\n",
    "y.size"
   ]
  },
  {
   "cell_type": "code",
   "execution_count": 8,
   "metadata": {
    "pycharm": {
     "name": "#%%\n"
    }
   },
   "outputs": [
    {
     "ename": "ValueError",
     "evalue": "Unknown label type: 'continuous-multioutput'",
     "output_type": "error",
     "traceback": [
      "\u001B[1;31m---------------------------------------------------------------------------\u001B[0m",
      "\u001B[1;31mValueError\u001B[0m                                Traceback (most recent call last)",
      "\u001B[1;32mc:\\Users\\Hamza Durez\\Desktop\\ML-freecodecamp\\04_Decision_Tree_on_Iris.ipynb Cell 6\u001B[0m in \u001B[0;36m<cell line: 6>\u001B[1;34m()\u001B[0m\n\u001B[0;32m      <a href='vscode-notebook-cell:/c%3A/Users/Hamza%20Durez/Desktop/ML-freecodecamp/04_Decision_Tree_on_Iris.ipynb#W5sZmlsZQ%3D%3D?line=2'>3</a>\u001B[0m \u001B[39mfrom\u001B[39;00m \u001B[39msklearn\u001B[39;00m\u001B[39m.\u001B[39;00m\u001B[39mtree\u001B[39;00m \u001B[39mimport\u001B[39;00m plot_tree\n\u001B[0;32m      <a href='vscode-notebook-cell:/c%3A/Users/Hamza%20Durez/Desktop/ML-freecodecamp/04_Decision_Tree_on_Iris.ipynb#W5sZmlsZQ%3D%3D?line=4'>5</a>\u001B[0m model \u001B[39m=\u001B[39m DecisionTreeClassifier()\n\u001B[1;32m----> <a href='vscode-notebook-cell:/c%3A/Users/Hamza%20Durez/Desktop/ML-freecodecamp/04_Decision_Tree_on_Iris.ipynb#W5sZmlsZQ%3D%3D?line=5'>6</a>\u001B[0m model\u001B[39m.\u001B[39;49mfit(x,y)\n\u001B[0;32m      <a href='vscode-notebook-cell:/c%3A/Users/Hamza%20Durez/Desktop/ML-freecodecamp/04_Decision_Tree_on_Iris.ipynb#W5sZmlsZQ%3D%3D?line=6'>7</a>\u001B[0m plot_tree(model,filled\u001B[39m=\u001B[39m\u001B[39mTrue\u001B[39;00m)\n\u001B[0;32m      <a href='vscode-notebook-cell:/c%3A/Users/Hamza%20Durez/Desktop/ML-freecodecamp/04_Decision_Tree_on_Iris.ipynb#W5sZmlsZQ%3D%3D?line=7'>8</a>\u001B[0m plt\u001B[39m.\u001B[39mtitle(\u001B[39m\"\u001B[39m\u001B[39mDecison Tree on Irirs\u001B[39m\u001B[39m\"\u001B[39m)\n",
      "File \u001B[1;32mc:\\Users\\Hamza Durez\\AppData\\Local\\Programs\\Python\\Python310\\lib\\site-packages\\sklearn\\tree\\_classes.py:969\u001B[0m, in \u001B[0;36mDecisionTreeClassifier.fit\u001B[1;34m(self, X, y, sample_weight, check_input)\u001B[0m\n\u001B[0;32m    939\u001B[0m \u001B[39mdef\u001B[39;00m \u001B[39mfit\u001B[39m(\u001B[39mself\u001B[39m, X, y, sample_weight\u001B[39m=\u001B[39m\u001B[39mNone\u001B[39;00m, check_input\u001B[39m=\u001B[39m\u001B[39mTrue\u001B[39;00m):\n\u001B[0;32m    940\u001B[0m     \u001B[39m\"\"\"Build a decision tree classifier from the training set (X, y).\u001B[39;00m\n\u001B[0;32m    941\u001B[0m \n\u001B[0;32m    942\u001B[0m \u001B[39m    Parameters\u001B[39;00m\n\u001B[1;32m   (...)\u001B[0m\n\u001B[0;32m    966\u001B[0m \u001B[39m        Fitted estimator.\u001B[39;00m\n\u001B[0;32m    967\u001B[0m \u001B[39m    \"\"\"\u001B[39;00m\n\u001B[1;32m--> 969\u001B[0m     \u001B[39msuper\u001B[39;49m()\u001B[39m.\u001B[39;49mfit(\n\u001B[0;32m    970\u001B[0m         X,\n\u001B[0;32m    971\u001B[0m         y,\n\u001B[0;32m    972\u001B[0m         sample_weight\u001B[39m=\u001B[39;49msample_weight,\n\u001B[0;32m    973\u001B[0m         check_input\u001B[39m=\u001B[39;49mcheck_input,\n\u001B[0;32m    974\u001B[0m     )\n\u001B[0;32m    975\u001B[0m     \u001B[39mreturn\u001B[39;00m \u001B[39mself\u001B[39m\n",
      "File \u001B[1;32mc:\\Users\\Hamza Durez\\AppData\\Local\\Programs\\Python\\Python310\\lib\\site-packages\\sklearn\\tree\\_classes.py:210\u001B[0m, in \u001B[0;36mBaseDecisionTree.fit\u001B[1;34m(self, X, y, sample_weight, check_input)\u001B[0m\n\u001B[0;32m    207\u001B[0m \u001B[39mself\u001B[39m\u001B[39m.\u001B[39mn_outputs_ \u001B[39m=\u001B[39m y\u001B[39m.\u001B[39mshape[\u001B[39m1\u001B[39m]\n\u001B[0;32m    209\u001B[0m \u001B[39mif\u001B[39;00m is_classification:\n\u001B[1;32m--> 210\u001B[0m     check_classification_targets(y)\n\u001B[0;32m    211\u001B[0m     y \u001B[39m=\u001B[39m np\u001B[39m.\u001B[39mcopy(y)\n\u001B[0;32m    213\u001B[0m     \u001B[39mself\u001B[39m\u001B[39m.\u001B[39mclasses_ \u001B[39m=\u001B[39m []\n",
      "File \u001B[1;32mc:\\Users\\Hamza Durez\\AppData\\Local\\Programs\\Python\\Python310\\lib\\site-packages\\sklearn\\utils\\multiclass.py:200\u001B[0m, in \u001B[0;36mcheck_classification_targets\u001B[1;34m(y)\u001B[0m\n\u001B[0;32m    192\u001B[0m y_type \u001B[39m=\u001B[39m type_of_target(y, input_name\u001B[39m=\u001B[39m\u001B[39m\"\u001B[39m\u001B[39my\u001B[39m\u001B[39m\"\u001B[39m)\n\u001B[0;32m    193\u001B[0m \u001B[39mif\u001B[39;00m y_type \u001B[39mnot\u001B[39;00m \u001B[39min\u001B[39;00m [\n\u001B[0;32m    194\u001B[0m     \u001B[39m\"\u001B[39m\u001B[39mbinary\u001B[39m\u001B[39m\"\u001B[39m,\n\u001B[0;32m    195\u001B[0m     \u001B[39m\"\u001B[39m\u001B[39mmulticlass\u001B[39m\u001B[39m\"\u001B[39m,\n\u001B[1;32m   (...)\u001B[0m\n\u001B[0;32m    198\u001B[0m     \u001B[39m\"\u001B[39m\u001B[39mmultilabel-sequences\u001B[39m\u001B[39m\"\u001B[39m,\n\u001B[0;32m    199\u001B[0m ]:\n\u001B[1;32m--> 200\u001B[0m     \u001B[39mraise\u001B[39;00m \u001B[39mValueError\u001B[39;00m(\u001B[39m\"\u001B[39m\u001B[39mUnknown label type: \u001B[39m\u001B[39m%r\u001B[39;00m\u001B[39m\"\u001B[39m \u001B[39m%\u001B[39m y_type)\n",
      "\u001B[1;31mValueError\u001B[0m: Unknown label type: 'continuous-multioutput'"
     ]
    }
   ],
   "source": [
    "from textwrap import fill\n",
    "from sklearn.tree import DecisionTreeClassifier\n",
    "from sklearn.tree import plot_tree\n",
    "\n",
    "model = DecisionTreeClassifier()\n",
    "model.fit(x,y)\n",
    "plot_tree(model,filled=True)\n",
    "plt.title(\"Decison Tree on Irirs\")\n",
    "#plt.savefig('tiff_compressed.tiff',dpi=680,format=\"tiff\",facecolor='white',edgecolor='None',pil_kwargs={\"compression\":\"tiff_lzw\"})\n",
    "plt.show()"
   ]
  },
  {
   "cell_type": "markdown",
   "metadata": {
    "pycharm": {
     "name": "#%% md\n"
    }
   },
   "source": [
    "Random forest in decision tree"
   ]
  },
  {
   "cell_type": "code",
   "execution_count": null,
   "metadata": {
    "pycharm": {
     "name": "#%%\n"
    }
   },
   "outputs": [],
   "source": [
    "# Assignment\n",
    "## work with rondom forest regressor\n",
    "### work with different data\n",
    "# precision score\n",
    "#recall_scaore\n",
    "#f1_score"
   ]
  },
  {
   "cell_type": "code",
   "execution_count": 15,
   "metadata": {
    "pycharm": {
     "name": "#%%\n"
    }
   },
   "outputs": [
    {
     "ename": "ValueError",
     "evalue": "Unknown label type: 'continuous-multioutput'",
     "output_type": "error",
     "traceback": [
      "\u001B[1;31m---------------------------------------------------------------------------\u001B[0m",
      "\u001B[1;31mValueError\u001B[0m                                Traceback (most recent call last)",
      "\u001B[1;32mc:\\Users\\Hamza Durez\\Desktop\\ML-freecodecamp\\04_Decision_Tree_on_Iris.ipynb Cell 8\u001B[0m in \u001B[0;36m<cell line: 4>\u001B[1;34m()\u001B[0m\n\u001B[0;32m      <a href='vscode-notebook-cell:/c%3A/Users/Hamza%20Durez/Desktop/ML-freecodecamp/04_Decision_Tree_on_Iris.ipynb#X14sZmlsZQ%3D%3D?line=1'>2</a>\u001B[0m \u001B[39mfrom\u001B[39;00m \u001B[39msklearn\u001B[39;00m\u001B[39m.\u001B[39;00m\u001B[39mensemble\u001B[39;00m \u001B[39mimport\u001B[39;00m RandomForestClassifier\n\u001B[0;32m      <a href='vscode-notebook-cell:/c%3A/Users/Hamza%20Durez/Desktop/ML-freecodecamp/04_Decision_Tree_on_Iris.ipynb#X14sZmlsZQ%3D%3D?line=2'>3</a>\u001B[0m model \u001B[39m=\u001B[39m RandomForestClassifier(n_estimators\u001B[39m=\u001B[39m\u001B[39m100\u001B[39m)\n\u001B[1;32m----> <a href='vscode-notebook-cell:/c%3A/Users/Hamza%20Durez/Desktop/ML-freecodecamp/04_Decision_Tree_on_Iris.ipynb#X14sZmlsZQ%3D%3D?line=3'>4</a>\u001B[0m model\u001B[39m.\u001B[39;49mfit(x,y)\n\u001B[0;32m      <a href='vscode-notebook-cell:/c%3A/Users/Hamza%20Durez/Desktop/ML-freecodecamp/04_Decision_Tree_on_Iris.ipynb#X14sZmlsZQ%3D%3D?line=4'>5</a>\u001B[0m model\u001B[39m.\u001B[39mpredict([[\u001B[39m2\u001B[39m,\u001B[39m6\u001B[39m,\u001B[39m3\u001B[39m,\u001B[39m9\u001B[39m]])\n",
      "File \u001B[1;32mc:\\Users\\Hamza Durez\\AppData\\Local\\Programs\\Python\\Python310\\lib\\site-packages\\sklearn\\ensemble\\_forest.py:371\u001B[0m, in \u001B[0;36mBaseForest.fit\u001B[1;34m(self, X, y, sample_weight)\u001B[0m\n\u001B[0;32m    364\u001B[0m         \u001B[39mraise\u001B[39;00m \u001B[39mValueError\u001B[39;00m(\n\u001B[0;32m    365\u001B[0m             \u001B[39m\"\u001B[39m\u001B[39mSum of y is not strictly positive which \u001B[39m\u001B[39m\"\u001B[39m\n\u001B[0;32m    366\u001B[0m             \u001B[39m\"\u001B[39m\u001B[39mis necessary for Poisson regression.\u001B[39m\u001B[39m\"\u001B[39m\n\u001B[0;32m    367\u001B[0m         )\n\u001B[0;32m    369\u001B[0m \u001B[39mself\u001B[39m\u001B[39m.\u001B[39mn_outputs_ \u001B[39m=\u001B[39m y\u001B[39m.\u001B[39mshape[\u001B[39m1\u001B[39m]\n\u001B[1;32m--> 371\u001B[0m y, expanded_class_weight \u001B[39m=\u001B[39m \u001B[39mself\u001B[39;49m\u001B[39m.\u001B[39;49m_validate_y_class_weight(y)\n\u001B[0;32m    373\u001B[0m \u001B[39mif\u001B[39;00m \u001B[39mgetattr\u001B[39m(y, \u001B[39m\"\u001B[39m\u001B[39mdtype\u001B[39m\u001B[39m\"\u001B[39m, \u001B[39mNone\u001B[39;00m) \u001B[39m!=\u001B[39m DOUBLE \u001B[39mor\u001B[39;00m \u001B[39mnot\u001B[39;00m y\u001B[39m.\u001B[39mflags\u001B[39m.\u001B[39mcontiguous:\n\u001B[0;32m    374\u001B[0m     y \u001B[39m=\u001B[39m np\u001B[39m.\u001B[39mascontiguousarray(y, dtype\u001B[39m=\u001B[39mDOUBLE)\n",
      "File \u001B[1;32mc:\\Users\\Hamza Durez\\AppData\\Local\\Programs\\Python\\Python310\\lib\\site-packages\\sklearn\\ensemble\\_forest.py:758\u001B[0m, in \u001B[0;36mForestClassifier._validate_y_class_weight\u001B[1;34m(self, y)\u001B[0m\n\u001B[0;32m    757\u001B[0m \u001B[39mdef\u001B[39;00m \u001B[39m_validate_y_class_weight\u001B[39m(\u001B[39mself\u001B[39m, y):\n\u001B[1;32m--> 758\u001B[0m     check_classification_targets(y)\n\u001B[0;32m    760\u001B[0m     y \u001B[39m=\u001B[39m np\u001B[39m.\u001B[39mcopy(y)\n\u001B[0;32m    761\u001B[0m     expanded_class_weight \u001B[39m=\u001B[39m \u001B[39mNone\u001B[39;00m\n",
      "File \u001B[1;32mc:\\Users\\Hamza Durez\\AppData\\Local\\Programs\\Python\\Python310\\lib\\site-packages\\sklearn\\utils\\multiclass.py:200\u001B[0m, in \u001B[0;36mcheck_classification_targets\u001B[1;34m(y)\u001B[0m\n\u001B[0;32m    192\u001B[0m y_type \u001B[39m=\u001B[39m type_of_target(y, input_name\u001B[39m=\u001B[39m\u001B[39m\"\u001B[39m\u001B[39my\u001B[39m\u001B[39m\"\u001B[39m)\n\u001B[0;32m    193\u001B[0m \u001B[39mif\u001B[39;00m y_type \u001B[39mnot\u001B[39;00m \u001B[39min\u001B[39;00m [\n\u001B[0;32m    194\u001B[0m     \u001B[39m\"\u001B[39m\u001B[39mbinary\u001B[39m\u001B[39m\"\u001B[39m,\n\u001B[0;32m    195\u001B[0m     \u001B[39m\"\u001B[39m\u001B[39mmulticlass\u001B[39m\u001B[39m\"\u001B[39m,\n\u001B[1;32m   (...)\u001B[0m\n\u001B[0;32m    198\u001B[0m     \u001B[39m\"\u001B[39m\u001B[39mmultilabel-sequences\u001B[39m\u001B[39m\"\u001B[39m,\n\u001B[0;32m    199\u001B[0m ]:\n\u001B[1;32m--> 200\u001B[0m     \u001B[39mraise\u001B[39;00m \u001B[39mValueError\u001B[39;00m(\u001B[39m\"\u001B[39m\u001B[39mUnknown label type: \u001B[39m\u001B[39m%r\u001B[39;00m\u001B[39m\"\u001B[39m \u001B[39m%\u001B[39m y_type)\n",
      "\u001B[1;31mValueError\u001B[0m: Unknown label type: 'continuous-multioutput'"
     ]
    }
   ],
   "source": [
    "# importing random forest\n",
    "from sklearn.ensemble import RandomForestClassifier\n",
    "model = RandomForestClassifier(n_estimators=100)\n",
    "model.fit(x,y)\n",
    "model.predict([[2,6,3,9]])"
   ]
  },
  {
   "cell_type": "code",
   "execution_count": 16,
   "metadata": {
    "pycharm": {
     "name": "#%%\n"
    }
   },
   "outputs": [
    {
     "ename": "NameError",
     "evalue": "name 'y_test' is not defined",
     "output_type": "error",
     "traceback": [
      "\u001B[1;31m---------------------------------------------------------------------------\u001B[0m",
      "\u001B[1;31mNameError\u001B[0m                                 Traceback (most recent call last)",
      "\u001B[1;32mc:\\Users\\Hamza Durez\\Desktop\\ML-freecodecamp\\04_Decision_Tree_on_Iris.ipynb Cell 10\u001B[0m in \u001B[0;36m<cell line: 4>\u001B[1;34m()\u001B[0m\n\u001B[0;32m      <a href='vscode-notebook-cell:/c%3A/Users/Hamza%20Durez/Desktop/ML-freecodecamp/04_Decision_Tree_on_Iris.ipynb#X15sZmlsZQ%3D%3D?line=0'>1</a>\u001B[0m \u001B[39m# fro confusion matrix\u001B[39;00m\n\u001B[0;32m      <a href='vscode-notebook-cell:/c%3A/Users/Hamza%20Durez/Desktop/ML-freecodecamp/04_Decision_Tree_on_Iris.ipynb#X15sZmlsZQ%3D%3D?line=2'>3</a>\u001B[0m \u001B[39mfrom\u001B[39;00m \u001B[39msklearn\u001B[39;00m \u001B[39mimport\u001B[39;00m metrics\n\u001B[1;32m----> <a href='vscode-notebook-cell:/c%3A/Users/Hamza%20Durez/Desktop/ML-freecodecamp/04_Decision_Tree_on_Iris.ipynb#X15sZmlsZQ%3D%3D?line=3'>4</a>\u001B[0m confusion_metrices \u001B[39m=\u001B[39m metrics\u001B[39m.\u001B[39mconfusion_matrix(y_test,prediction)\n\u001B[0;32m      <a href='vscode-notebook-cell:/c%3A/Users/Hamza%20Durez/Desktop/ML-freecodecamp/04_Decision_Tree_on_Iris.ipynb#X15sZmlsZQ%3D%3D?line=4'>5</a>\u001B[0m confusion_metrices\n",
      "\u001B[1;31mNameError\u001B[0m: name 'y_test' is not defined"
     ]
    }
   ],
   "source": [
    "# fro confusion matrix\n",
    "\n",
    "from sklearn import metrics\n",
    "confusion_metrices = metrics.confusion_matrix(y_test,prediction)\n",
    "confusion_metrices"
   ]
  },
  {
   "cell_type": "code",
   "execution_count": null,
   "metadata": {
    "pycharm": {
     "name": "#%%\n"
    }
   },
   "outputs": [],
   "source": [
    "# for heatmap import sns\n",
    "import seaborn as sns\n",
    "plt.figure(figsize=(9,9))\n",
    "sns.heatmap(confusion_metrices,annot=True,fmt=\"3f\",linewidths=5,square=True,confusion_metrices=\"Spectral\")"
   ]
  },
  {
   "cell_type": "code",
   "execution_count": null,
   "metadata": {
    "pycharm": {
     "name": "#%%\n"
    }
   },
   "outputs": [],
   "source": []
  }
 ],
 "metadata": {
  "kernelspec": {
   "display_name": "Python 3.10.5 64-bit",
   "language": "python",
   "name": "python3"
  },
  "language_info": {
   "codemirror_mode": {
    "name": "ipython",
    "version": 3
   },
   "file_extension": ".py",
   "mimetype": "text/x-python",
   "name": "python",
   "nbconvert_exporter": "python",
   "pygments_lexer": "ipython3",
   "version": "3.10.5"
  },
  "orig_nbformat": 4,
  "vscode": {
   "interpreter": {
    "hash": "dffc2cd7f8163d703fd8e3d910e9475848ea15c1b4da01e3e02eb682f4ed2b22"
   }
  }
 },
 "nbformat": 4,
 "nbformat_minor": 2
}