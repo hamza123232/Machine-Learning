{
 "cells": [
  {
   "cell_type": "markdown",
   "metadata": {},
   "source": [
    "Pandas In Python\n"
   ]
  },
  {
   "cell_type": "code",
   "execution_count": 1,
   "metadata": {},
   "outputs": [],
   "source": [
    "import pandas as pd\n",
    "import numpy as np"
   ]
  },
  {
   "cell_type": "code",
   "execution_count": 4,
   "metadata": {},
   "outputs": [
    {
     "data": {
      "text/plain": [
       "0    1.0\n",
       "1    3.0\n",
       "2    5.0\n",
       "3    NaN\n",
       "4    4.0\n",
       "5    3.0\n",
       "6    6.0\n",
       "7    8.0\n",
       "dtype: float64"
      ]
     },
     "execution_count": 4,
     "metadata": {},
     "output_type": "execute_result"
    }
   ],
   "source": [
    "series1 = pd.Series([1,3,5,np.nan,4,3,6,8])\n",
    "series1"
   ]
  },
  {
   "cell_type": "code",
   "execution_count": 5,
   "metadata": {},
   "outputs": [
    {
     "data": {
      "text/plain": [
       "DatetimeIndex(['2022-01-07', '2022-01-08', '2022-01-09', '2022-01-10',\n",
       "               '2022-01-11', '2022-01-12', '2022-01-13', '2022-01-14'],\n",
       "              dtype='datetime64[ns]', freq='D')"
      ]
     },
     "execution_count": 5,
     "metadata": {},
     "output_type": "execute_result"
    }
   ],
   "source": [
    "dates = pd.date_range(\"20220107\",periods=8)\n",
    "dates"
   ]
  },
  {
   "cell_type": "code",
   "execution_count": 12,
   "metadata": {},
   "outputs": [
    {
     "data": {
      "text/html": [
       "<div>\n",
       "<style scoped>\n",
       "    .dataframe tbody tr th:only-of-type {\n",
       "        vertical-align: middle;\n",
       "    }\n",
       "\n",
       "    .dataframe tbody tr th {\n",
       "        vertical-align: top;\n",
       "    }\n",
       "\n",
       "    .dataframe thead th {\n",
       "        text-align: right;\n",
       "    }\n",
       "</style>\n",
       "<table border=\"1\" class=\"dataframe\">\n",
       "  <thead>\n",
       "    <tr style=\"text-align: right;\">\n",
       "      <th></th>\n",
       "      <th>A</th>\n",
       "      <th>B</th>\n",
       "      <th>C</th>\n",
       "      <th>D</th>\n",
       "    </tr>\n",
       "  </thead>\n",
       "  <tbody>\n",
       "    <tr>\n",
       "      <th>2022-01-07</th>\n",
       "      <td>-0.355342</td>\n",
       "      <td>0.862536</td>\n",
       "      <td>1.238498</td>\n",
       "      <td>-0.165467</td>\n",
       "    </tr>\n",
       "    <tr>\n",
       "      <th>2022-01-08</th>\n",
       "      <td>-0.896278</td>\n",
       "      <td>1.049446</td>\n",
       "      <td>-1.995409</td>\n",
       "      <td>0.278860</td>\n",
       "    </tr>\n",
       "    <tr>\n",
       "      <th>2022-01-09</th>\n",
       "      <td>-0.160427</td>\n",
       "      <td>0.077646</td>\n",
       "      <td>-0.089917</td>\n",
       "      <td>1.173015</td>\n",
       "    </tr>\n",
       "    <tr>\n",
       "      <th>2022-01-10</th>\n",
       "      <td>0.141733</td>\n",
       "      <td>0.359542</td>\n",
       "      <td>-0.008611</td>\n",
       "      <td>1.481085</td>\n",
       "    </tr>\n",
       "    <tr>\n",
       "      <th>2022-01-11</th>\n",
       "      <td>-0.319908</td>\n",
       "      <td>-0.528766</td>\n",
       "      <td>-1.145110</td>\n",
       "      <td>-0.750759</td>\n",
       "    </tr>\n",
       "    <tr>\n",
       "      <th>2022-01-12</th>\n",
       "      <td>1.829518</td>\n",
       "      <td>-1.811536</td>\n",
       "      <td>-0.888602</td>\n",
       "      <td>-0.800577</td>\n",
       "    </tr>\n",
       "    <tr>\n",
       "      <th>2022-01-13</th>\n",
       "      <td>1.180328</td>\n",
       "      <td>-1.880663</td>\n",
       "      <td>-1.746693</td>\n",
       "      <td>0.974841</td>\n",
       "    </tr>\n",
       "    <tr>\n",
       "      <th>2022-01-14</th>\n",
       "      <td>-0.774695</td>\n",
       "      <td>0.373580</td>\n",
       "      <td>1.334684</td>\n",
       "      <td>1.040080</td>\n",
       "    </tr>\n",
       "  </tbody>\n",
       "</table>\n",
       "</div>"
      ],
      "text/plain": [
       "                   A         B         C         D\n",
       "2022-01-07 -0.355342  0.862536  1.238498 -0.165467\n",
       "2022-01-08 -0.896278  1.049446 -1.995409  0.278860\n",
       "2022-01-09 -0.160427  0.077646 -0.089917  1.173015\n",
       "2022-01-10  0.141733  0.359542 -0.008611  1.481085\n",
       "2022-01-11 -0.319908 -0.528766 -1.145110 -0.750759\n",
       "2022-01-12  1.829518 -1.811536 -0.888602 -0.800577\n",
       "2022-01-13  1.180328 -1.880663 -1.746693  0.974841\n",
       "2022-01-14 -0.774695  0.373580  1.334684  1.040080"
      ]
     },
     "execution_count": 12,
     "metadata": {},
     "output_type": "execute_result"
    }
   ],
   "source": [
    "df = pd.DataFrame(np.random.randn(8,4),index=dates,columns=list(\"ABCD\"))\n",
    "df"
   ]
  },
  {
   "cell_type": "code",
   "execution_count": 19,
   "metadata": {},
   "outputs": [
    {
     "data": {
      "text/html": [
       "<div>\n",
       "<style scoped>\n",
       "    .dataframe tbody tr th:only-of-type {\n",
       "        vertical-align: middle;\n",
       "    }\n",
       "\n",
       "    .dataframe tbody tr th {\n",
       "        vertical-align: top;\n",
       "    }\n",
       "\n",
       "    .dataframe thead th {\n",
       "        text-align: right;\n",
       "    }\n",
       "</style>\n",
       "<table border=\"1\" class=\"dataframe\">\n",
       "  <thead>\n",
       "    <tr style=\"text-align: right;\">\n",
       "      <th></th>\n",
       "      <th>A</th>\n",
       "      <th>B</th>\n",
       "      <th>C</th>\n",
       "    </tr>\n",
       "  </thead>\n",
       "  <tbody>\n",
       "    <tr>\n",
       "      <th>0</th>\n",
       "      <td>1.0</td>\n",
       "      <td>2022-01-01</td>\n",
       "      <td>1.0</td>\n",
       "    </tr>\n",
       "    <tr>\n",
       "      <th>1</th>\n",
       "      <td>1.0</td>\n",
       "      <td>2022-01-01</td>\n",
       "      <td>1.0</td>\n",
       "    </tr>\n",
       "    <tr>\n",
       "      <th>2</th>\n",
       "      <td>1.0</td>\n",
       "      <td>2022-01-01</td>\n",
       "      <td>1.0</td>\n",
       "    </tr>\n",
       "    <tr>\n",
       "      <th>3</th>\n",
       "      <td>1.0</td>\n",
       "      <td>2022-01-01</td>\n",
       "      <td>1.0</td>\n",
       "    </tr>\n",
       "  </tbody>\n",
       "</table>\n",
       "</div>"
      ],
      "text/plain": [
       "     A          B    C\n",
       "0  1.0 2022-01-01  1.0\n",
       "1  1.0 2022-01-01  1.0\n",
       "2  1.0 2022-01-01  1.0\n",
       "3  1.0 2022-01-01  1.0"
      ]
     },
     "execution_count": 19,
     "metadata": {},
     "output_type": "execute_result"
    }
   ],
   "source": [
    "df2 = pd.DataFrame(\n",
    "    {\n",
    "        'A':1.0,\n",
    "        'B':pd.Timestamp(\"20220101\"),\n",
    "        'C':pd.Series(1,index=list(range(4)),dtype='float32')\n",
    "\n",
    "    }\n",
    ")\n",
    "df2"
   ]
  },
  {
   "cell_type": "code",
   "execution_count": 20,
   "metadata": {},
   "outputs": [
    {
     "data": {
      "text/plain": [
       "A           float64\n",
       "B    datetime64[ns]\n",
       "C           float32\n",
       "dtype: object"
      ]
     },
     "execution_count": 20,
     "metadata": {},
     "output_type": "execute_result"
    }
   ],
   "source": [
    "df2.dtypes"
   ]
  },
  {
   "cell_type": "code",
   "execution_count": 21,
   "metadata": {},
   "outputs": [
    {
     "data": {
      "text/html": [
       "<div>\n",
       "<style scoped>\n",
       "    .dataframe tbody tr th:only-of-type {\n",
       "        vertical-align: middle;\n",
       "    }\n",
       "\n",
       "    .dataframe tbody tr th {\n",
       "        vertical-align: top;\n",
       "    }\n",
       "\n",
       "    .dataframe thead th {\n",
       "        text-align: right;\n",
       "    }\n",
       "</style>\n",
       "<table border=\"1\" class=\"dataframe\">\n",
       "  <thead>\n",
       "    <tr style=\"text-align: right;\">\n",
       "      <th></th>\n",
       "      <th>A</th>\n",
       "      <th>B</th>\n",
       "      <th>C</th>\n",
       "      <th>D</th>\n",
       "    </tr>\n",
       "  </thead>\n",
       "  <tbody>\n",
       "    <tr>\n",
       "      <th>2022-01-07</th>\n",
       "      <td>-0.355342</td>\n",
       "      <td>0.862536</td>\n",
       "      <td>1.238498</td>\n",
       "      <td>-0.165467</td>\n",
       "    </tr>\n",
       "    <tr>\n",
       "      <th>2022-01-08</th>\n",
       "      <td>-0.896278</td>\n",
       "      <td>1.049446</td>\n",
       "      <td>-1.995409</td>\n",
       "      <td>0.278860</td>\n",
       "    </tr>\n",
       "    <tr>\n",
       "      <th>2022-01-09</th>\n",
       "      <td>-0.160427</td>\n",
       "      <td>0.077646</td>\n",
       "      <td>-0.089917</td>\n",
       "      <td>1.173015</td>\n",
       "    </tr>\n",
       "    <tr>\n",
       "      <th>2022-01-10</th>\n",
       "      <td>0.141733</td>\n",
       "      <td>0.359542</td>\n",
       "      <td>-0.008611</td>\n",
       "      <td>1.481085</td>\n",
       "    </tr>\n",
       "    <tr>\n",
       "      <th>2022-01-11</th>\n",
       "      <td>-0.319908</td>\n",
       "      <td>-0.528766</td>\n",
       "      <td>-1.145110</td>\n",
       "      <td>-0.750759</td>\n",
       "    </tr>\n",
       "  </tbody>\n",
       "</table>\n",
       "</div>"
      ],
      "text/plain": [
       "                   A         B         C         D\n",
       "2022-01-07 -0.355342  0.862536  1.238498 -0.165467\n",
       "2022-01-08 -0.896278  1.049446 -1.995409  0.278860\n",
       "2022-01-09 -0.160427  0.077646 -0.089917  1.173015\n",
       "2022-01-10  0.141733  0.359542 -0.008611  1.481085\n",
       "2022-01-11 -0.319908 -0.528766 -1.145110 -0.750759"
      ]
     },
     "execution_count": 21,
     "metadata": {},
     "output_type": "execute_result"
    }
   ],
   "source": [
    "df.head()"
   ]
  },
  {
   "cell_type": "code",
   "execution_count": 22,
   "metadata": {},
   "outputs": [
    {
     "data": {
      "text/html": [
       "<div>\n",
       "<style scoped>\n",
       "    .dataframe tbody tr th:only-of-type {\n",
       "        vertical-align: middle;\n",
       "    }\n",
       "\n",
       "    .dataframe tbody tr th {\n",
       "        vertical-align: top;\n",
       "    }\n",
       "\n",
       "    .dataframe thead th {\n",
       "        text-align: right;\n",
       "    }\n",
       "</style>\n",
       "<table border=\"1\" class=\"dataframe\">\n",
       "  <thead>\n",
       "    <tr style=\"text-align: right;\">\n",
       "      <th></th>\n",
       "      <th>A</th>\n",
       "      <th>B</th>\n",
       "      <th>C</th>\n",
       "      <th>D</th>\n",
       "    </tr>\n",
       "  </thead>\n",
       "  <tbody>\n",
       "    <tr>\n",
       "      <th>2022-01-10</th>\n",
       "      <td>0.141733</td>\n",
       "      <td>0.359542</td>\n",
       "      <td>-0.008611</td>\n",
       "      <td>1.481085</td>\n",
       "    </tr>\n",
       "    <tr>\n",
       "      <th>2022-01-11</th>\n",
       "      <td>-0.319908</td>\n",
       "      <td>-0.528766</td>\n",
       "      <td>-1.145110</td>\n",
       "      <td>-0.750759</td>\n",
       "    </tr>\n",
       "    <tr>\n",
       "      <th>2022-01-12</th>\n",
       "      <td>1.829518</td>\n",
       "      <td>-1.811536</td>\n",
       "      <td>-0.888602</td>\n",
       "      <td>-0.800577</td>\n",
       "    </tr>\n",
       "    <tr>\n",
       "      <th>2022-01-13</th>\n",
       "      <td>1.180328</td>\n",
       "      <td>-1.880663</td>\n",
       "      <td>-1.746693</td>\n",
       "      <td>0.974841</td>\n",
       "    </tr>\n",
       "    <tr>\n",
       "      <th>2022-01-14</th>\n",
       "      <td>-0.774695</td>\n",
       "      <td>0.373580</td>\n",
       "      <td>1.334684</td>\n",
       "      <td>1.040080</td>\n",
       "    </tr>\n",
       "  </tbody>\n",
       "</table>\n",
       "</div>"
      ],
      "text/plain": [
       "                   A         B         C         D\n",
       "2022-01-10  0.141733  0.359542 -0.008611  1.481085\n",
       "2022-01-11 -0.319908 -0.528766 -1.145110 -0.750759\n",
       "2022-01-12  1.829518 -1.811536 -0.888602 -0.800577\n",
       "2022-01-13  1.180328 -1.880663 -1.746693  0.974841\n",
       "2022-01-14 -0.774695  0.373580  1.334684  1.040080"
      ]
     },
     "execution_count": 22,
     "metadata": {},
     "output_type": "execute_result"
    }
   ],
   "source": [
    "df.tail()"
   ]
  },
  {
   "cell_type": "code",
   "execution_count": 23,
   "metadata": {},
   "outputs": [
    {
     "data": {
      "text/plain": [
       "DatetimeIndex(['2022-01-07', '2022-01-08', '2022-01-09', '2022-01-10',\n",
       "               '2022-01-11', '2022-01-12', '2022-01-13', '2022-01-14'],\n",
       "              dtype='datetime64[ns]', freq='D')"
      ]
     },
     "execution_count": 23,
     "metadata": {},
     "output_type": "execute_result"
    }
   ],
   "source": [
    "df.index"
   ]
  },
  {
   "cell_type": "code",
   "execution_count": 57,
   "metadata": {},
   "outputs": [
    {
     "data": {
      "text/plain": [
       "32"
      ]
     },
     "execution_count": 57,
     "metadata": {},
     "output_type": "execute_result"
    }
   ],
   "source": [
    "df2.index\n",
    "df2.size"
   ]
  },
  {
   "cell_type": "code",
   "execution_count": 25,
   "metadata": {},
   "outputs": [
    {
     "data": {
      "text/plain": [
       "array([[-0.35534201,  0.8625363 ,  1.23849755, -0.16546659],\n",
       "       [-0.89627791,  1.04944574, -1.99540875,  0.27886   ],\n",
       "       [-0.16042713,  0.07764576, -0.08991738,  1.17301527],\n",
       "       [ 0.14173348,  0.35954242, -0.00861139,  1.48108521],\n",
       "       [-0.31990846, -0.52876602, -1.14510975, -0.75075881],\n",
       "       [ 1.82951796, -1.81153566, -0.88860217, -0.80057742],\n",
       "       [ 1.1803285 , -1.88066286, -1.7466934 ,  0.97484148],\n",
       "       [-0.77469514,  0.37357997,  1.3346842 ,  1.04007991]])"
      ]
     },
     "execution_count": 25,
     "metadata": {},
     "output_type": "execute_result"
    }
   ],
   "source": [
    "df.to_numpy()"
   ]
  },
  {
   "cell_type": "code",
   "execution_count": 27,
   "metadata": {},
   "outputs": [
    {
     "data": {
      "text/plain": [
       "array([[1.0, Timestamp('2022-01-01 00:00:00'), 1.0],\n",
       "       [1.0, Timestamp('2022-01-01 00:00:00'), 1.0],\n",
       "       [1.0, Timestamp('2022-01-01 00:00:00'), 1.0],\n",
       "       [1.0, Timestamp('2022-01-01 00:00:00'), 1.0]], dtype=object)"
      ]
     },
     "execution_count": 27,
     "metadata": {},
     "output_type": "execute_result"
    }
   ],
   "source": [
    "df2.to_numpy()"
   ]
  },
  {
   "cell_type": "code",
   "execution_count": 28,
   "metadata": {},
   "outputs": [
    {
     "data": {
      "text/html": [
       "<div>\n",
       "<style scoped>\n",
       "    .dataframe tbody tr th:only-of-type {\n",
       "        vertical-align: middle;\n",
       "    }\n",
       "\n",
       "    .dataframe tbody tr th {\n",
       "        vertical-align: top;\n",
       "    }\n",
       "\n",
       "    .dataframe thead th {\n",
       "        text-align: right;\n",
       "    }\n",
       "</style>\n",
       "<table border=\"1\" class=\"dataframe\">\n",
       "  <thead>\n",
       "    <tr style=\"text-align: right;\">\n",
       "      <th></th>\n",
       "      <th>A</th>\n",
       "      <th>B</th>\n",
       "      <th>C</th>\n",
       "      <th>D</th>\n",
       "    </tr>\n",
       "  </thead>\n",
       "  <tbody>\n",
       "    <tr>\n",
       "      <th>count</th>\n",
       "      <td>8.000000</td>\n",
       "      <td>8.000000</td>\n",
       "      <td>8.000000</td>\n",
       "      <td>8.000000</td>\n",
       "    </tr>\n",
       "    <tr>\n",
       "      <th>mean</th>\n",
       "      <td>0.080616</td>\n",
       "      <td>-0.187277</td>\n",
       "      <td>-0.412645</td>\n",
       "      <td>0.403885</td>\n",
       "    </tr>\n",
       "    <tr>\n",
       "      <th>std</th>\n",
       "      <td>0.953656</td>\n",
       "      <td>1.129964</td>\n",
       "      <td>1.258950</td>\n",
       "      <td>0.894937</td>\n",
       "    </tr>\n",
       "    <tr>\n",
       "      <th>min</th>\n",
       "      <td>-0.896278</td>\n",
       "      <td>-1.880663</td>\n",
       "      <td>-1.995409</td>\n",
       "      <td>-0.800577</td>\n",
       "    </tr>\n",
       "    <tr>\n",
       "      <th>25%</th>\n",
       "      <td>-0.460180</td>\n",
       "      <td>-0.849458</td>\n",
       "      <td>-1.295506</td>\n",
       "      <td>-0.311790</td>\n",
       "    </tr>\n",
       "    <tr>\n",
       "      <th>50%</th>\n",
       "      <td>-0.240168</td>\n",
       "      <td>0.218594</td>\n",
       "      <td>-0.489260</td>\n",
       "      <td>0.626851</td>\n",
       "    </tr>\n",
       "    <tr>\n",
       "      <th>75%</th>\n",
       "      <td>0.401382</td>\n",
       "      <td>0.495819</td>\n",
       "      <td>0.303166</td>\n",
       "      <td>1.073314</td>\n",
       "    </tr>\n",
       "    <tr>\n",
       "      <th>max</th>\n",
       "      <td>1.829518</td>\n",
       "      <td>1.049446</td>\n",
       "      <td>1.334684</td>\n",
       "      <td>1.481085</td>\n",
       "    </tr>\n",
       "  </tbody>\n",
       "</table>\n",
       "</div>"
      ],
      "text/plain": [
       "              A         B         C         D\n",
       "count  8.000000  8.000000  8.000000  8.000000\n",
       "mean   0.080616 -0.187277 -0.412645  0.403885\n",
       "std    0.953656  1.129964  1.258950  0.894937\n",
       "min   -0.896278 -1.880663 -1.995409 -0.800577\n",
       "25%   -0.460180 -0.849458 -1.295506 -0.311790\n",
       "50%   -0.240168  0.218594 -0.489260  0.626851\n",
       "75%    0.401382  0.495819  0.303166  1.073314\n",
       "max    1.829518  1.049446  1.334684  1.481085"
      ]
     },
     "execution_count": 28,
     "metadata": {},
     "output_type": "execute_result"
    }
   ],
   "source": [
    "df.describe()"
   ]
  },
  {
   "cell_type": "code",
   "execution_count": 29,
   "metadata": {},
   "outputs": [
    {
     "data": {
      "text/plain": [
       "<bound method DataFrame.transpose of                    A         B         C         D\n",
       "2022-01-07 -0.355342  0.862536  1.238498 -0.165467\n",
       "2022-01-08 -0.896278  1.049446 -1.995409  0.278860\n",
       "2022-01-09 -0.160427  0.077646 -0.089917  1.173015\n",
       "2022-01-10  0.141733  0.359542 -0.008611  1.481085\n",
       "2022-01-11 -0.319908 -0.528766 -1.145110 -0.750759\n",
       "2022-01-12  1.829518 -1.811536 -0.888602 -0.800577\n",
       "2022-01-13  1.180328 -1.880663 -1.746693  0.974841\n",
       "2022-01-14 -0.774695  0.373580  1.334684  1.040080>"
      ]
     },
     "execution_count": 29,
     "metadata": {},
     "output_type": "execute_result"
    }
   ],
   "source": [
    "df.transpose"
   ]
  },
  {
   "cell_type": "code",
   "execution_count": 30,
   "metadata": {},
   "outputs": [
    {
     "data": {
      "text/html": [
       "<div>\n",
       "<style scoped>\n",
       "    .dataframe tbody tr th:only-of-type {\n",
       "        vertical-align: middle;\n",
       "    }\n",
       "\n",
       "    .dataframe tbody tr th {\n",
       "        vertical-align: top;\n",
       "    }\n",
       "\n",
       "    .dataframe thead th {\n",
       "        text-align: right;\n",
       "    }\n",
       "</style>\n",
       "<table border=\"1\" class=\"dataframe\">\n",
       "  <thead>\n",
       "    <tr style=\"text-align: right;\">\n",
       "      <th></th>\n",
       "      <th>2022-01-07</th>\n",
       "      <th>2022-01-08</th>\n",
       "      <th>2022-01-09</th>\n",
       "      <th>2022-01-10</th>\n",
       "      <th>2022-01-11</th>\n",
       "      <th>2022-01-12</th>\n",
       "      <th>2022-01-13</th>\n",
       "      <th>2022-01-14</th>\n",
       "    </tr>\n",
       "  </thead>\n",
       "  <tbody>\n",
       "    <tr>\n",
       "      <th>A</th>\n",
       "      <td>-0.355342</td>\n",
       "      <td>-0.896278</td>\n",
       "      <td>-0.160427</td>\n",
       "      <td>0.141733</td>\n",
       "      <td>-0.319908</td>\n",
       "      <td>1.829518</td>\n",
       "      <td>1.180328</td>\n",
       "      <td>-0.774695</td>\n",
       "    </tr>\n",
       "    <tr>\n",
       "      <th>B</th>\n",
       "      <td>0.862536</td>\n",
       "      <td>1.049446</td>\n",
       "      <td>0.077646</td>\n",
       "      <td>0.359542</td>\n",
       "      <td>-0.528766</td>\n",
       "      <td>-1.811536</td>\n",
       "      <td>-1.880663</td>\n",
       "      <td>0.373580</td>\n",
       "    </tr>\n",
       "    <tr>\n",
       "      <th>C</th>\n",
       "      <td>1.238498</td>\n",
       "      <td>-1.995409</td>\n",
       "      <td>-0.089917</td>\n",
       "      <td>-0.008611</td>\n",
       "      <td>-1.145110</td>\n",
       "      <td>-0.888602</td>\n",
       "      <td>-1.746693</td>\n",
       "      <td>1.334684</td>\n",
       "    </tr>\n",
       "    <tr>\n",
       "      <th>D</th>\n",
       "      <td>-0.165467</td>\n",
       "      <td>0.278860</td>\n",
       "      <td>1.173015</td>\n",
       "      <td>1.481085</td>\n",
       "      <td>-0.750759</td>\n",
       "      <td>-0.800577</td>\n",
       "      <td>0.974841</td>\n",
       "      <td>1.040080</td>\n",
       "    </tr>\n",
       "  </tbody>\n",
       "</table>\n",
       "</div>"
      ],
      "text/plain": [
       "   2022-01-07  2022-01-08  2022-01-09  2022-01-10  2022-01-11  2022-01-12  \\\n",
       "A   -0.355342   -0.896278   -0.160427    0.141733   -0.319908    1.829518   \n",
       "B    0.862536    1.049446    0.077646    0.359542   -0.528766   -1.811536   \n",
       "C    1.238498   -1.995409   -0.089917   -0.008611   -1.145110   -0.888602   \n",
       "D   -0.165467    0.278860    1.173015    1.481085   -0.750759   -0.800577   \n",
       "\n",
       "   2022-01-13  2022-01-14  \n",
       "A    1.180328   -0.774695  \n",
       "B   -1.880663    0.373580  \n",
       "C   -1.746693    1.334684  \n",
       "D    0.974841    1.040080  "
      ]
     },
     "execution_count": 30,
     "metadata": {},
     "output_type": "execute_result"
    }
   ],
   "source": [
    "df.T"
   ]
  },
  {
   "cell_type": "code",
   "execution_count": 31,
   "metadata": {},
   "outputs": [
    {
     "data": {
      "text/html": [
       "<div>\n",
       "<style scoped>\n",
       "    .dataframe tbody tr th:only-of-type {\n",
       "        vertical-align: middle;\n",
       "    }\n",
       "\n",
       "    .dataframe tbody tr th {\n",
       "        vertical-align: top;\n",
       "    }\n",
       "\n",
       "    .dataframe thead th {\n",
       "        text-align: right;\n",
       "    }\n",
       "</style>\n",
       "<table border=\"1\" class=\"dataframe\">\n",
       "  <thead>\n",
       "    <tr style=\"text-align: right;\">\n",
       "      <th></th>\n",
       "      <th>A</th>\n",
       "      <th>B</th>\n",
       "      <th>C</th>\n",
       "      <th>D</th>\n",
       "    </tr>\n",
       "  </thead>\n",
       "  <tbody>\n",
       "    <tr>\n",
       "      <th>2022-01-07</th>\n",
       "      <td>-0.355342</td>\n",
       "      <td>0.862536</td>\n",
       "      <td>1.238498</td>\n",
       "      <td>-0.165467</td>\n",
       "    </tr>\n",
       "    <tr>\n",
       "      <th>2022-01-08</th>\n",
       "      <td>-0.896278</td>\n",
       "      <td>1.049446</td>\n",
       "      <td>-1.995409</td>\n",
       "      <td>0.278860</td>\n",
       "    </tr>\n",
       "    <tr>\n",
       "      <th>2022-01-09</th>\n",
       "      <td>-0.160427</td>\n",
       "      <td>0.077646</td>\n",
       "      <td>-0.089917</td>\n",
       "      <td>1.173015</td>\n",
       "    </tr>\n",
       "    <tr>\n",
       "      <th>2022-01-10</th>\n",
       "      <td>0.141733</td>\n",
       "      <td>0.359542</td>\n",
       "      <td>-0.008611</td>\n",
       "      <td>1.481085</td>\n",
       "    </tr>\n",
       "    <tr>\n",
       "      <th>2022-01-11</th>\n",
       "      <td>-0.319908</td>\n",
       "      <td>-0.528766</td>\n",
       "      <td>-1.145110</td>\n",
       "      <td>-0.750759</td>\n",
       "    </tr>\n",
       "    <tr>\n",
       "      <th>2022-01-12</th>\n",
       "      <td>1.829518</td>\n",
       "      <td>-1.811536</td>\n",
       "      <td>-0.888602</td>\n",
       "      <td>-0.800577</td>\n",
       "    </tr>\n",
       "    <tr>\n",
       "      <th>2022-01-13</th>\n",
       "      <td>1.180328</td>\n",
       "      <td>-1.880663</td>\n",
       "      <td>-1.746693</td>\n",
       "      <td>0.974841</td>\n",
       "    </tr>\n",
       "    <tr>\n",
       "      <th>2022-01-14</th>\n",
       "      <td>-0.774695</td>\n",
       "      <td>0.373580</td>\n",
       "      <td>1.334684</td>\n",
       "      <td>1.040080</td>\n",
       "    </tr>\n",
       "  </tbody>\n",
       "</table>\n",
       "</div>"
      ],
      "text/plain": [
       "                   A         B         C         D\n",
       "2022-01-07 -0.355342  0.862536  1.238498 -0.165467\n",
       "2022-01-08 -0.896278  1.049446 -1.995409  0.278860\n",
       "2022-01-09 -0.160427  0.077646 -0.089917  1.173015\n",
       "2022-01-10  0.141733  0.359542 -0.008611  1.481085\n",
       "2022-01-11 -0.319908 -0.528766 -1.145110 -0.750759\n",
       "2022-01-12  1.829518 -1.811536 -0.888602 -0.800577\n",
       "2022-01-13  1.180328 -1.880663 -1.746693  0.974841\n",
       "2022-01-14 -0.774695  0.373580  1.334684  1.040080"
      ]
     },
     "execution_count": 31,
     "metadata": {},
     "output_type": "execute_result"
    }
   ],
   "source": [
    "df.sort_index(axis=1,ascending=True)"
   ]
  },
  {
   "cell_type": "code",
   "execution_count": 33,
   "metadata": {},
   "outputs": [
    {
     "data": {
      "text/plain": [
       "2022-01-07   -0.355342\n",
       "2022-01-08   -0.896278\n",
       "2022-01-09   -0.160427\n",
       "2022-01-10    0.141733\n",
       "2022-01-11   -0.319908\n",
       "2022-01-12    1.829518\n",
       "2022-01-13    1.180328\n",
       "2022-01-14   -0.774695\n",
       "Freq: D, Name: A, dtype: float64"
      ]
     },
     "execution_count": 33,
     "metadata": {},
     "output_type": "execute_result"
    }
   ],
   "source": [
    "df['A']"
   ]
  },
  {
   "cell_type": "code",
   "execution_count": 34,
   "metadata": {},
   "outputs": [
    {
     "data": {
      "text/html": [
       "<div>\n",
       "<style scoped>\n",
       "    .dataframe tbody tr th:only-of-type {\n",
       "        vertical-align: middle;\n",
       "    }\n",
       "\n",
       "    .dataframe tbody tr th {\n",
       "        vertical-align: top;\n",
       "    }\n",
       "\n",
       "    .dataframe thead th {\n",
       "        text-align: right;\n",
       "    }\n",
       "</style>\n",
       "<table border=\"1\" class=\"dataframe\">\n",
       "  <thead>\n",
       "    <tr style=\"text-align: right;\">\n",
       "      <th></th>\n",
       "      <th>A</th>\n",
       "      <th>B</th>\n",
       "      <th>C</th>\n",
       "      <th>D</th>\n",
       "    </tr>\n",
       "  </thead>\n",
       "  <tbody>\n",
       "    <tr>\n",
       "      <th>2022-01-07</th>\n",
       "      <td>-0.355342</td>\n",
       "      <td>0.862536</td>\n",
       "      <td>1.238498</td>\n",
       "      <td>-0.165467</td>\n",
       "    </tr>\n",
       "    <tr>\n",
       "      <th>2022-01-08</th>\n",
       "      <td>-0.896278</td>\n",
       "      <td>1.049446</td>\n",
       "      <td>-1.995409</td>\n",
       "      <td>0.278860</td>\n",
       "    </tr>\n",
       "    <tr>\n",
       "      <th>2022-01-09</th>\n",
       "      <td>-0.160427</td>\n",
       "      <td>0.077646</td>\n",
       "      <td>-0.089917</td>\n",
       "      <td>1.173015</td>\n",
       "    </tr>\n",
       "  </tbody>\n",
       "</table>\n",
       "</div>"
      ],
      "text/plain": [
       "                   A         B         C         D\n",
       "2022-01-07 -0.355342  0.862536  1.238498 -0.165467\n",
       "2022-01-08 -0.896278  1.049446 -1.995409  0.278860\n",
       "2022-01-09 -0.160427  0.077646 -0.089917  1.173015"
      ]
     },
     "execution_count": 34,
     "metadata": {},
     "output_type": "execute_result"
    }
   ],
   "source": [
    "df[0:3]"
   ]
  },
  {
   "cell_type": "code",
   "execution_count": 37,
   "metadata": {},
   "outputs": [
    {
     "data": {
      "text/html": [
       "<div>\n",
       "<style scoped>\n",
       "    .dataframe tbody tr th:only-of-type {\n",
       "        vertical-align: middle;\n",
       "    }\n",
       "\n",
       "    .dataframe tbody tr th {\n",
       "        vertical-align: top;\n",
       "    }\n",
       "\n",
       "    .dataframe thead th {\n",
       "        text-align: right;\n",
       "    }\n",
       "</style>\n",
       "<table border=\"1\" class=\"dataframe\">\n",
       "  <thead>\n",
       "    <tr style=\"text-align: right;\">\n",
       "      <th></th>\n",
       "      <th>A</th>\n",
       "      <th>B</th>\n",
       "      <th>C</th>\n",
       "      <th>D</th>\n",
       "    </tr>\n",
       "  </thead>\n",
       "  <tbody>\n",
       "    <tr>\n",
       "      <th>2022-01-07</th>\n",
       "      <td>-0.355342</td>\n",
       "      <td>0.862536</td>\n",
       "      <td>1.238498</td>\n",
       "      <td>-0.165467</td>\n",
       "    </tr>\n",
       "  </tbody>\n",
       "</table>\n",
       "</div>"
      ],
      "text/plain": [
       "                   A         B         C         D\n",
       "2022-01-07 -0.355342  0.862536  1.238498 -0.165467"
      ]
     },
     "execution_count": 37,
     "metadata": {},
     "output_type": "execute_result"
    }
   ],
   "source": [
    "df.loc[dates[0:1]]"
   ]
  },
  {
   "cell_type": "code",
   "execution_count": 44,
   "metadata": {},
   "outputs": [
    {
     "data": {
      "text/html": [
       "<div>\n",
       "<style scoped>\n",
       "    .dataframe tbody tr th:only-of-type {\n",
       "        vertical-align: middle;\n",
       "    }\n",
       "\n",
       "    .dataframe tbody tr th {\n",
       "        vertical-align: top;\n",
       "    }\n",
       "\n",
       "    .dataframe thead th {\n",
       "        text-align: right;\n",
       "    }\n",
       "</style>\n",
       "<table border=\"1\" class=\"dataframe\">\n",
       "  <thead>\n",
       "    <tr style=\"text-align: right;\">\n",
       "      <th></th>\n",
       "      <th>A</th>\n",
       "      <th>B</th>\n",
       "    </tr>\n",
       "  </thead>\n",
       "  <tbody>\n",
       "    <tr>\n",
       "      <th>0</th>\n",
       "      <td>1.0</td>\n",
       "      <td>2022-01-01</td>\n",
       "    </tr>\n",
       "    <tr>\n",
       "      <th>1</th>\n",
       "      <td>1.0</td>\n",
       "      <td>2022-01-01</td>\n",
       "    </tr>\n",
       "    <tr>\n",
       "      <th>2</th>\n",
       "      <td>1.0</td>\n",
       "      <td>2022-01-01</td>\n",
       "    </tr>\n",
       "    <tr>\n",
       "      <th>3</th>\n",
       "      <td>1.0</td>\n",
       "      <td>2022-01-01</td>\n",
       "    </tr>\n",
       "  </tbody>\n",
       "</table>\n",
       "</div>"
      ],
      "text/plain": [
       "     A          B\n",
       "0  1.0 2022-01-01\n",
       "1  1.0 2022-01-01\n",
       "2  1.0 2022-01-01\n",
       "3  1.0 2022-01-01"
      ]
     },
     "execution_count": 44,
     "metadata": {},
     "output_type": "execute_result"
    }
   ],
   "source": [
    "df2.loc[0:10,[\"A\",\"B\"]]"
   ]
  },
  {
   "cell_type": "code",
   "execution_count": 46,
   "metadata": {},
   "outputs": [
    {
     "data": {
      "text/html": [
       "<div>\n",
       "<style scoped>\n",
       "    .dataframe tbody tr th:only-of-type {\n",
       "        vertical-align: middle;\n",
       "    }\n",
       "\n",
       "    .dataframe tbody tr th {\n",
       "        vertical-align: top;\n",
       "    }\n",
       "\n",
       "    .dataframe thead th {\n",
       "        text-align: right;\n",
       "    }\n",
       "</style>\n",
       "<table border=\"1\" class=\"dataframe\">\n",
       "  <thead>\n",
       "    <tr style=\"text-align: right;\">\n",
       "      <th></th>\n",
       "      <th>A</th>\n",
       "      <th>B</th>\n",
       "    </tr>\n",
       "  </thead>\n",
       "  <tbody>\n",
       "    <tr>\n",
       "      <th>2022-01-07</th>\n",
       "      <td>-0.355342</td>\n",
       "      <td>0.862536</td>\n",
       "    </tr>\n",
       "    <tr>\n",
       "      <th>2022-01-08</th>\n",
       "      <td>-0.896278</td>\n",
       "      <td>1.049446</td>\n",
       "    </tr>\n",
       "    <tr>\n",
       "      <th>2022-01-09</th>\n",
       "      <td>-0.160427</td>\n",
       "      <td>0.077646</td>\n",
       "    </tr>\n",
       "    <tr>\n",
       "      <th>2022-01-10</th>\n",
       "      <td>0.141733</td>\n",
       "      <td>0.359542</td>\n",
       "    </tr>\n",
       "    <tr>\n",
       "      <th>2022-01-11</th>\n",
       "      <td>-0.319908</td>\n",
       "      <td>-0.528766</td>\n",
       "    </tr>\n",
       "    <tr>\n",
       "      <th>2022-01-12</th>\n",
       "      <td>1.829518</td>\n",
       "      <td>-1.811536</td>\n",
       "    </tr>\n",
       "    <tr>\n",
       "      <th>2022-01-13</th>\n",
       "      <td>1.180328</td>\n",
       "      <td>-1.880663</td>\n",
       "    </tr>\n",
       "    <tr>\n",
       "      <th>2022-01-14</th>\n",
       "      <td>-0.774695</td>\n",
       "      <td>0.373580</td>\n",
       "    </tr>\n",
       "  </tbody>\n",
       "</table>\n",
       "</div>"
      ],
      "text/plain": [
       "                   A         B\n",
       "2022-01-07 -0.355342  0.862536\n",
       "2022-01-08 -0.896278  1.049446\n",
       "2022-01-09 -0.160427  0.077646\n",
       "2022-01-10  0.141733  0.359542\n",
       "2022-01-11 -0.319908 -0.528766\n",
       "2022-01-12  1.829518 -1.811536\n",
       "2022-01-13  1.180328 -1.880663\n",
       "2022-01-14 -0.774695  0.373580"
      ]
     },
     "execution_count": 46,
     "metadata": {},
     "output_type": "execute_result"
    }
   ],
   "source": [
    "df.loc[:,['A','B']]"
   ]
  },
  {
   "cell_type": "code",
   "execution_count": 48,
   "metadata": {},
   "outputs": [
    {
     "data": {
      "text/plain": [
       "1.1803284990543181"
      ]
     },
     "execution_count": 48,
     "metadata": {},
     "output_type": "execute_result"
    }
   ],
   "source": [
    "df.at[dates[6],\"A\"]"
   ]
  },
  {
   "cell_type": "code",
   "execution_count": 49,
   "metadata": {},
   "outputs": [
    {
     "data": {
      "text/plain": [
       "A    0.141733\n",
       "B    0.359542\n",
       "C   -0.008611\n",
       "D    1.481085\n",
       "Name: 2022-01-10 00:00:00, dtype: float64"
      ]
     },
     "execution_count": 49,
     "metadata": {},
     "output_type": "execute_result"
    }
   ],
   "source": [
    "df.iloc[3]"
   ]
  },
  {
   "cell_type": "code",
   "execution_count": 52,
   "metadata": {},
   "outputs": [
    {
     "data": {
      "text/html": [
       "<div>\n",
       "<style scoped>\n",
       "    .dataframe tbody tr th:only-of-type {\n",
       "        vertical-align: middle;\n",
       "    }\n",
       "\n",
       "    .dataframe tbody tr th {\n",
       "        vertical-align: top;\n",
       "    }\n",
       "\n",
       "    .dataframe thead th {\n",
       "        text-align: right;\n",
       "    }\n",
       "</style>\n",
       "<table border=\"1\" class=\"dataframe\">\n",
       "  <thead>\n",
       "    <tr style=\"text-align: right;\">\n",
       "      <th></th>\n",
       "      <th>A</th>\n",
       "      <th>B</th>\n",
       "      <th>C</th>\n",
       "    </tr>\n",
       "  </thead>\n",
       "  <tbody>\n",
       "    <tr>\n",
       "      <th>2022-01-07</th>\n",
       "      <td>-0.355342</td>\n",
       "      <td>0.862536</td>\n",
       "      <td>1.238498</td>\n",
       "    </tr>\n",
       "    <tr>\n",
       "      <th>2022-01-08</th>\n",
       "      <td>-0.896278</td>\n",
       "      <td>1.049446</td>\n",
       "      <td>-1.995409</td>\n",
       "    </tr>\n",
       "    <tr>\n",
       "      <th>2022-01-09</th>\n",
       "      <td>-0.160427</td>\n",
       "      <td>0.077646</td>\n",
       "      <td>-0.089917</td>\n",
       "    </tr>\n",
       "    <tr>\n",
       "      <th>2022-01-10</th>\n",
       "      <td>0.141733</td>\n",
       "      <td>0.359542</td>\n",
       "      <td>-0.008611</td>\n",
       "    </tr>\n",
       "    <tr>\n",
       "      <th>2022-01-11</th>\n",
       "      <td>-0.319908</td>\n",
       "      <td>-0.528766</td>\n",
       "      <td>-1.145110</td>\n",
       "    </tr>\n",
       "    <tr>\n",
       "      <th>2022-01-12</th>\n",
       "      <td>1.829518</td>\n",
       "      <td>-1.811536</td>\n",
       "      <td>-0.888602</td>\n",
       "    </tr>\n",
       "    <tr>\n",
       "      <th>2022-01-13</th>\n",
       "      <td>1.180328</td>\n",
       "      <td>-1.880663</td>\n",
       "      <td>-1.746693</td>\n",
       "    </tr>\n",
       "    <tr>\n",
       "      <th>2022-01-14</th>\n",
       "      <td>-0.774695</td>\n",
       "      <td>0.373580</td>\n",
       "      <td>1.334684</td>\n",
       "    </tr>\n",
       "  </tbody>\n",
       "</table>\n",
       "</div>"
      ],
      "text/plain": [
       "                   A         B         C\n",
       "2022-01-07 -0.355342  0.862536  1.238498\n",
       "2022-01-08 -0.896278  1.049446 -1.995409\n",
       "2022-01-09 -0.160427  0.077646 -0.089917\n",
       "2022-01-10  0.141733  0.359542 -0.008611\n",
       "2022-01-11 -0.319908 -0.528766 -1.145110\n",
       "2022-01-12  1.829518 -1.811536 -0.888602\n",
       "2022-01-13  1.180328 -1.880663 -1.746693\n",
       "2022-01-14 -0.774695  0.373580  1.334684"
      ]
     },
     "execution_count": 52,
     "metadata": {},
     "output_type": "execute_result"
    }
   ],
   "source": [
    "df.iloc[:,:-1]"
   ]
  },
  {
   "cell_type": "code",
   "execution_count": 53,
   "metadata": {},
   "outputs": [
    {
     "data": {
      "text/html": [
       "<div>\n",
       "<style scoped>\n",
       "    .dataframe tbody tr th:only-of-type {\n",
       "        vertical-align: middle;\n",
       "    }\n",
       "\n",
       "    .dataframe tbody tr th {\n",
       "        vertical-align: top;\n",
       "    }\n",
       "\n",
       "    .dataframe thead th {\n",
       "        text-align: right;\n",
       "    }\n",
       "</style>\n",
       "<table border=\"1\" class=\"dataframe\">\n",
       "  <thead>\n",
       "    <tr style=\"text-align: right;\">\n",
       "      <th></th>\n",
       "      <th>D</th>\n",
       "    </tr>\n",
       "  </thead>\n",
       "  <tbody>\n",
       "    <tr>\n",
       "      <th>2022-01-07</th>\n",
       "      <td>-0.165467</td>\n",
       "    </tr>\n",
       "    <tr>\n",
       "      <th>2022-01-08</th>\n",
       "      <td>0.278860</td>\n",
       "    </tr>\n",
       "    <tr>\n",
       "      <th>2022-01-09</th>\n",
       "      <td>1.173015</td>\n",
       "    </tr>\n",
       "    <tr>\n",
       "      <th>2022-01-10</th>\n",
       "      <td>1.481085</td>\n",
       "    </tr>\n",
       "    <tr>\n",
       "      <th>2022-01-11</th>\n",
       "      <td>-0.750759</td>\n",
       "    </tr>\n",
       "    <tr>\n",
       "      <th>2022-01-12</th>\n",
       "      <td>-0.800577</td>\n",
       "    </tr>\n",
       "    <tr>\n",
       "      <th>2022-01-13</th>\n",
       "      <td>0.974841</td>\n",
       "    </tr>\n",
       "    <tr>\n",
       "      <th>2022-01-14</th>\n",
       "      <td>1.040080</td>\n",
       "    </tr>\n",
       "  </tbody>\n",
       "</table>\n",
       "</div>"
      ],
      "text/plain": [
       "                   D\n",
       "2022-01-07 -0.165467\n",
       "2022-01-08  0.278860\n",
       "2022-01-09  1.173015\n",
       "2022-01-10  1.481085\n",
       "2022-01-11 -0.750759\n",
       "2022-01-12 -0.800577\n",
       "2022-01-13  0.974841\n",
       "2022-01-14  1.040080"
      ]
     },
     "execution_count": 53,
     "metadata": {},
     "output_type": "execute_result"
    }
   ],
   "source": [
    "df.iloc[:,-1:]"
   ]
  },
  {
   "cell_type": "code",
   "execution_count": 54,
   "metadata": {},
   "outputs": [
    {
     "data": {
      "text/html": [
       "<div>\n",
       "<style scoped>\n",
       "    .dataframe tbody tr th:only-of-type {\n",
       "        vertical-align: middle;\n",
       "    }\n",
       "\n",
       "    .dataframe tbody tr th {\n",
       "        vertical-align: top;\n",
       "    }\n",
       "\n",
       "    .dataframe thead th {\n",
       "        text-align: right;\n",
       "    }\n",
       "</style>\n",
       "<table border=\"1\" class=\"dataframe\">\n",
       "  <thead>\n",
       "    <tr style=\"text-align: right;\">\n",
       "      <th></th>\n",
       "      <th>A</th>\n",
       "      <th>B</th>\n",
       "      <th>C</th>\n",
       "      <th>D</th>\n",
       "    </tr>\n",
       "  </thead>\n",
       "  <tbody>\n",
       "    <tr>\n",
       "      <th>2022-01-10</th>\n",
       "      <td>0.141733</td>\n",
       "      <td>0.359542</td>\n",
       "      <td>-0.008611</td>\n",
       "      <td>1.481085</td>\n",
       "    </tr>\n",
       "    <tr>\n",
       "      <th>2022-01-12</th>\n",
       "      <td>1.829518</td>\n",
       "      <td>-1.811536</td>\n",
       "      <td>-0.888602</td>\n",
       "      <td>-0.800577</td>\n",
       "    </tr>\n",
       "    <tr>\n",
       "      <th>2022-01-13</th>\n",
       "      <td>1.180328</td>\n",
       "      <td>-1.880663</td>\n",
       "      <td>-1.746693</td>\n",
       "      <td>0.974841</td>\n",
       "    </tr>\n",
       "  </tbody>\n",
       "</table>\n",
       "</div>"
      ],
      "text/plain": [
       "                   A         B         C         D\n",
       "2022-01-10  0.141733  0.359542 -0.008611  1.481085\n",
       "2022-01-12  1.829518 -1.811536 -0.888602 -0.800577\n",
       "2022-01-13  1.180328 -1.880663 -1.746693  0.974841"
      ]
     },
     "execution_count": 54,
     "metadata": {},
     "output_type": "execute_result"
    }
   ],
   "source": [
    "df[df['A']>0]"
   ]
  },
  {
   "cell_type": "code",
   "execution_count": 55,
   "metadata": {},
   "outputs": [],
   "source": [
    "df2 =df.copy()"
   ]
  },
  {
   "cell_type": "code",
   "execution_count": 60,
   "metadata": {},
   "outputs": [],
   "source": [
    "df2[\"Chilla\"] = [\"one\",\"two\",\"three\",\n",
    "                    \"one\",\"two\",\"three\",\n",
    "                    \"one\",\"two\"]"
   ]
  },
  {
   "cell_type": "code",
   "execution_count": 61,
   "metadata": {},
   "outputs": [
    {
     "data": {
      "text/html": [
       "<div>\n",
       "<style scoped>\n",
       "    .dataframe tbody tr th:only-of-type {\n",
       "        vertical-align: middle;\n",
       "    }\n",
       "\n",
       "    .dataframe tbody tr th {\n",
       "        vertical-align: top;\n",
       "    }\n",
       "\n",
       "    .dataframe thead th {\n",
       "        text-align: right;\n",
       "    }\n",
       "</style>\n",
       "<table border=\"1\" class=\"dataframe\">\n",
       "  <thead>\n",
       "    <tr style=\"text-align: right;\">\n",
       "      <th></th>\n",
       "      <th>A</th>\n",
       "      <th>B</th>\n",
       "      <th>C</th>\n",
       "      <th>D</th>\n",
       "      <th>Chilla</th>\n",
       "    </tr>\n",
       "  </thead>\n",
       "  <tbody>\n",
       "    <tr>\n",
       "      <th>2022-01-07</th>\n",
       "      <td>-0.355342</td>\n",
       "      <td>0.862536</td>\n",
       "      <td>1.238498</td>\n",
       "      <td>-0.165467</td>\n",
       "      <td>one</td>\n",
       "    </tr>\n",
       "    <tr>\n",
       "      <th>2022-01-08</th>\n",
       "      <td>-0.896278</td>\n",
       "      <td>1.049446</td>\n",
       "      <td>-1.995409</td>\n",
       "      <td>0.278860</td>\n",
       "      <td>two</td>\n",
       "    </tr>\n",
       "    <tr>\n",
       "      <th>2022-01-09</th>\n",
       "      <td>-0.160427</td>\n",
       "      <td>0.077646</td>\n",
       "      <td>-0.089917</td>\n",
       "      <td>1.173015</td>\n",
       "      <td>three</td>\n",
       "    </tr>\n",
       "    <tr>\n",
       "      <th>2022-01-10</th>\n",
       "      <td>0.141733</td>\n",
       "      <td>0.359542</td>\n",
       "      <td>-0.008611</td>\n",
       "      <td>1.481085</td>\n",
       "      <td>one</td>\n",
       "    </tr>\n",
       "    <tr>\n",
       "      <th>2022-01-11</th>\n",
       "      <td>-0.319908</td>\n",
       "      <td>-0.528766</td>\n",
       "      <td>-1.145110</td>\n",
       "      <td>-0.750759</td>\n",
       "      <td>two</td>\n",
       "    </tr>\n",
       "    <tr>\n",
       "      <th>2022-01-12</th>\n",
       "      <td>1.829518</td>\n",
       "      <td>-1.811536</td>\n",
       "      <td>-0.888602</td>\n",
       "      <td>-0.800577</td>\n",
       "      <td>three</td>\n",
       "    </tr>\n",
       "    <tr>\n",
       "      <th>2022-01-13</th>\n",
       "      <td>1.180328</td>\n",
       "      <td>-1.880663</td>\n",
       "      <td>-1.746693</td>\n",
       "      <td>0.974841</td>\n",
       "      <td>one</td>\n",
       "    </tr>\n",
       "    <tr>\n",
       "      <th>2022-01-14</th>\n",
       "      <td>-0.774695</td>\n",
       "      <td>0.373580</td>\n",
       "      <td>1.334684</td>\n",
       "      <td>1.040080</td>\n",
       "      <td>two</td>\n",
       "    </tr>\n",
       "  </tbody>\n",
       "</table>\n",
       "</div>"
      ],
      "text/plain": [
       "                   A         B         C         D Chilla\n",
       "2022-01-07 -0.355342  0.862536  1.238498 -0.165467    one\n",
       "2022-01-08 -0.896278  1.049446 -1.995409  0.278860    two\n",
       "2022-01-09 -0.160427  0.077646 -0.089917  1.173015  three\n",
       "2022-01-10  0.141733  0.359542 -0.008611  1.481085    one\n",
       "2022-01-11 -0.319908 -0.528766 -1.145110 -0.750759    two\n",
       "2022-01-12  1.829518 -1.811536 -0.888602 -0.800577  three\n",
       "2022-01-13  1.180328 -1.880663 -1.746693  0.974841    one\n",
       "2022-01-14 -0.774695  0.373580  1.334684  1.040080    two"
      ]
     },
     "execution_count": 61,
     "metadata": {},
     "output_type": "execute_result"
    }
   ],
   "source": [
    "df2"
   ]
  },
  {
   "cell_type": "code",
   "execution_count": 63,
   "metadata": {},
   "outputs": [
    {
     "data": {
      "text/html": [
       "<div>\n",
       "<style scoped>\n",
       "    .dataframe tbody tr th:only-of-type {\n",
       "        vertical-align: middle;\n",
       "    }\n",
       "\n",
       "    .dataframe tbody tr th {\n",
       "        vertical-align: top;\n",
       "    }\n",
       "\n",
       "    .dataframe thead th {\n",
       "        text-align: right;\n",
       "    }\n",
       "</style>\n",
       "<table border=\"1\" class=\"dataframe\">\n",
       "  <thead>\n",
       "    <tr style=\"text-align: right;\">\n",
       "      <th></th>\n",
       "      <th>A</th>\n",
       "      <th>B</th>\n",
       "      <th>C</th>\n",
       "      <th>D</th>\n",
       "      <th>Chilla</th>\n",
       "      <th>mean</th>\n",
       "    </tr>\n",
       "  </thead>\n",
       "  <tbody>\n",
       "    <tr>\n",
       "      <th>2022-01-07</th>\n",
       "      <td>-0.355342</td>\n",
       "      <td>0.862536</td>\n",
       "      <td>1.238498</td>\n",
       "      <td>-0.165467</td>\n",
       "      <td>one</td>\n",
       "      <td>2.2</td>\n",
       "    </tr>\n",
       "    <tr>\n",
       "      <th>2022-01-08</th>\n",
       "      <td>-0.896278</td>\n",
       "      <td>1.049446</td>\n",
       "      <td>-1.995409</td>\n",
       "      <td>0.278860</td>\n",
       "      <td>two</td>\n",
       "      <td>2.3</td>\n",
       "    </tr>\n",
       "    <tr>\n",
       "      <th>2022-01-09</th>\n",
       "      <td>-0.160427</td>\n",
       "      <td>0.077646</td>\n",
       "      <td>-0.089917</td>\n",
       "      <td>1.173015</td>\n",
       "      <td>three</td>\n",
       "      <td>43.4</td>\n",
       "    </tr>\n",
       "    <tr>\n",
       "      <th>2022-01-10</th>\n",
       "      <td>0.141733</td>\n",
       "      <td>0.359542</td>\n",
       "      <td>-0.008611</td>\n",
       "      <td>1.481085</td>\n",
       "      <td>one</td>\n",
       "      <td>3.5</td>\n",
       "    </tr>\n",
       "    <tr>\n",
       "      <th>2022-01-11</th>\n",
       "      <td>-0.319908</td>\n",
       "      <td>-0.528766</td>\n",
       "      <td>-1.145110</td>\n",
       "      <td>-0.750759</td>\n",
       "      <td>two</td>\n",
       "      <td>2.2</td>\n",
       "    </tr>\n",
       "    <tr>\n",
       "      <th>2022-01-12</th>\n",
       "      <td>1.829518</td>\n",
       "      <td>-1.811536</td>\n",
       "      <td>-0.888602</td>\n",
       "      <td>-0.800577</td>\n",
       "      <td>three</td>\n",
       "      <td>2.3</td>\n",
       "    </tr>\n",
       "    <tr>\n",
       "      <th>2022-01-13</th>\n",
       "      <td>1.180328</td>\n",
       "      <td>-1.880663</td>\n",
       "      <td>-1.746693</td>\n",
       "      <td>0.974841</td>\n",
       "      <td>one</td>\n",
       "      <td>43.4</td>\n",
       "    </tr>\n",
       "    <tr>\n",
       "      <th>2022-01-14</th>\n",
       "      <td>-0.774695</td>\n",
       "      <td>0.373580</td>\n",
       "      <td>1.334684</td>\n",
       "      <td>1.040080</td>\n",
       "      <td>two</td>\n",
       "      <td>3.5</td>\n",
       "    </tr>\n",
       "  </tbody>\n",
       "</table>\n",
       "</div>"
      ],
      "text/plain": [
       "                   A         B         C         D Chilla  mean\n",
       "2022-01-07 -0.355342  0.862536  1.238498 -0.165467    one   2.2\n",
       "2022-01-08 -0.896278  1.049446 -1.995409  0.278860    two   2.3\n",
       "2022-01-09 -0.160427  0.077646 -0.089917  1.173015  three  43.4\n",
       "2022-01-10  0.141733  0.359542 -0.008611  1.481085    one   3.5\n",
       "2022-01-11 -0.319908 -0.528766 -1.145110 -0.750759    two   2.2\n",
       "2022-01-12  1.829518 -1.811536 -0.888602 -0.800577  three   2.3\n",
       "2022-01-13  1.180328 -1.880663 -1.746693  0.974841    one  43.4\n",
       "2022-01-14 -0.774695  0.373580  1.334684  1.040080    two   3.5"
      ]
     },
     "execution_count": 63,
     "metadata": {},
     "output_type": "execute_result"
    }
   ],
   "source": [
    "df2[\"mean\"] = [2.2,2.3,43.4,3.5,\n",
    "                2.2,2.3,43.4,3.5\n",
    "]\n",
    "df2"
   ]
  },
  {
   "cell_type": "code",
   "execution_count": null,
   "metadata": {},
   "outputs": [],
   "source": []
  }
 ],
 "metadata": {
  "kernelspec": {
   "display_name": "Python 3.10.5 64-bit",
   "language": "python",
   "name": "python3"
  },
  "language_info": {
   "codemirror_mode": {
    "name": "ipython",
    "version": 3
   },
   "file_extension": ".py",
   "mimetype": "text/x-python",
   "name": "python",
   "nbconvert_exporter": "python",
   "pygments_lexer": "ipython3",
   "version": "3.10.5"
  },
  "orig_nbformat": 4,
  "vscode": {
   "interpreter": {
    "hash": "dffc2cd7f8163d703fd8e3d910e9475848ea15c1b4da01e3e02eb682f4ed2b22"
   }
  }
 },
 "nbformat": 4,
 "nbformat_minor": 2
}
