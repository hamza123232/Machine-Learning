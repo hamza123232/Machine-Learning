#!/usr/bin/env python
# coding: utf-8

# In[315]:


import tensorflow.compat.v2.feature_column as fc
import tensorflow as tf
import pandas as pd
import numpy as np
df_train= pd.read_csv('train.csv')
df_eval= pd.read_csv('eval.csv')
y_train= df_train.pop('survived')
y_eval= df_eval.pop('survived')


# In[316]:


categorical_column=['sex','n_siblings_spouses','parch','class','deck','embark_town','alone']
numerical_column=['age','fare']


# In[317]:


feature_columns=[]

for feature_name in categorical_column:
    vocabulary= df_train[feature_name].unique()
    feature_columns.append(tf.feature_column.categorical_column_with_vocabulary_list(feature_name,vocabulary))
    
for feature_name in numerical_column:
    feature_columns.append(tf.feature_column.numeric_column(feature_name,dtype=tf.float32))
print(feature_columns)
                          


# In[318]:


def make_inp_fn(data_df,label_df,num_epochs=10,shuffle=True, batch_size=32):
    def input_fn():
        ds= tf.data.Dataset.from_tensor_slices((dict(data_df),label_df))
        if shuffle:
            ds= ds.shuffle(1000)
            ds= ds.batch(batch_size).repeat(num_epochs)
            return ds
    return(input_fn)
    


# In[319]:


train_inp_fn= make_inp_fn(df_train,y_train)
eval_input_fn= make_inp_fn(df_eval, y_eval, num_epochs=1,shuffle=False)


# In[320]:


Linear_est= tf.estimator.LinearClassifier(feature_columns=feature_columns)


# In[321]:


Linear_est.train(train_inp_fn)



# In[322]:


result = Linear_est.evaluate(eval_input_fn)


# In[ ]:


print(result['accuracy'])

