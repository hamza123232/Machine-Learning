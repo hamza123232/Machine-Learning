#importing model from Sklearn
from sklearn.module import Model
# intesiate the model
model = Model()
# x:array of featurjnhcx y:array of targeted variable
model.fit(x,y)
# we predict model )gdassing 6 new observatio
prediction = model.predict(X_new)
print(prediction)
import numpy as np